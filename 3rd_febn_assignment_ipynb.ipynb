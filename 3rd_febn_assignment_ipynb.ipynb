{
  "nbformat": 4,
  "nbformat_minor": 0,
  "metadata": {
    "colab": {
      "provenance": [],
      "authorship_tag": "ABX9TyPldUl21kMy+t54SIuET7CE",
      "include_colab_link": true
    },
    "kernelspec": {
      "name": "python3",
      "display_name": "Python 3"
    },
    "language_info": {
      "name": "python"
    }
  },
  "cells": [
    {
      "cell_type": "markdown",
      "metadata": {
        "id": "view-in-github",
        "colab_type": "text"
      },
      "source": [
        "<a href=\"https://colab.research.google.com/github/HimanshuSaini819/-Python-Assignment/blob/main/3rd_febn_assignment_ipynb.ipynb\" target=\"_parent\"><img src=\"https://colab.research.google.com/assets/colab-badge.svg\" alt=\"Open In Colab\"/></a>"
      ]
    },
    {
      "cell_type": "code",
      "execution_count": 2,
      "metadata": {
        "id": "2DTPlZ1uhpRY"
      },
      "outputs": [],
      "source": [
        "#Q1. Which keyword is used to create a function? Create a function to return a list of odd numbers in therange of 1 to 25."
      ]
    },
    {
      "cell_type": "code",
      "source": [
        "def odd_numbers():\n",
        "    return [num for num in range(1, 26) if num % 2 != 0]\n",
        "\n",
        "# Example usage:\n",
        "print(odd_numbers())\n"
      ],
      "metadata": {
        "colab": {
          "base_uri": "https://localhost:8080/"
        },
        "id": "NyfwcE-hh_4A",
        "outputId": "5fc3fe82-349b-4948-cff8-1667998ab969"
      },
      "execution_count": 3,
      "outputs": [
        {
          "output_type": "stream",
          "name": "stdout",
          "text": [
            "[1, 3, 5, 7, 9, 11, 13, 15, 17, 19, 21, 23, 25]\n"
          ]
        }
      ]
    },
    {
      "cell_type": "code",
      "source": [
        "#Q2. Why *args and **kwargs is used in some functions? Create a function each for *args and **kwargsto demonstrate their use."
      ],
      "metadata": {
        "id": "g_isIrB4iK3P"
      },
      "execution_count": 4,
      "outputs": []
    },
    {
      "cell_type": "code",
      "source": [
        "#1. Using *args (Positional arguments):*args allows the function to accept a variable number of positional arguments. It collects them into a tuple.\n",
        "\n",
        "#Example function using *args:\n",
        "def print_numbers(*args):\n",
        "    for num in args:\n",
        "        print(num)\n",
        "\n",
        "# Example usage:\n",
        "print_numbers(1, 2, 3, 4, 5)\n"
      ],
      "metadata": {
        "colab": {
          "base_uri": "https://localhost:8080/"
        },
        "id": "Vk7G74-7iU0L",
        "outputId": "1fb87a97-faea-407e-ca07-10ec406fc083"
      },
      "execution_count": 5,
      "outputs": [
        {
          "output_type": "stream",
          "name": "stdout",
          "text": [
            "1\n",
            "2\n",
            "3\n",
            "4\n",
            "5\n"
          ]
        }
      ]
    },
    {
      "cell_type": "code",
      "source": [
        "##Explanation:Here, *args collects all the arguments passed to the function into a tuple. So, in the example print_numbers(1, 2, 3, 4, 5), args will be (1, 2, 3, 4, 5), and the function will print each number in the tuple.\n",
        "\n",
        "#2. Using **kwargs (Keyword arguments):**kwargs allows the function to accept a variable number of keyword arguments. It collects them into a dictionary.\n",
        "\n",
        "#Example function using **kwargs:\n",
        "def print_details(**kwargs):\n",
        "    for key, value in kwargs.items():\n",
        "        print(f\"{key}: {value}\")\n",
        "\n",
        "# Example usage:\n",
        "print_details(name=\"John\", age=25, city=\"New York\")\n"
      ],
      "metadata": {
        "colab": {
          "base_uri": "https://localhost:8080/"
        },
        "id": "I7AjLUSjio1I",
        "outputId": "33b063c0-1e98-47f3-a369-1e59d27dffa3"
      },
      "execution_count": 6,
      "outputs": [
        {
          "output_type": "stream",
          "name": "stdout",
          "text": [
            "name: John\n",
            "age: 25\n",
            "city: New York\n"
          ]
        }
      ]
    },
    {
      "cell_type": "code",
      "source": [
        "def example(*args, **kwargs):\n",
        "    print(\"Positional arguments:\", args)\n",
        "    print(\"Keyword arguments:\", kwargs)\n",
        "\n",
        "example(1, 2, 3, name=\"Alice\", age=30)\n"
      ],
      "metadata": {
        "colab": {
          "base_uri": "https://localhost:8080/"
        },
        "id": "hWLqlWvli8Qm",
        "outputId": "f14c2239-ebe7-4e00-90b8-7b2706574c43"
      },
      "execution_count": 7,
      "outputs": [
        {
          "output_type": "stream",
          "name": "stdout",
          "text": [
            "Positional arguments: (1, 2, 3)\n",
            "Keyword arguments: {'name': 'Alice', 'age': 30}\n"
          ]
        }
      ]
    },
    {
      "cell_type": "code",
      "source": [
        "##Explanation:Here, **kwargs collects the arguments passed as key-value pairs into a dictionary. In the example, kwargs will be {\"name\": \"John\", \"age\": 25, \"city\": \"New York\"}, and the function will print each key-value pair.\n",
        "\n",
        "#Key Differences:*args collects extra positional arguments into a tuple.**kwargs collects extra keyword arguments into a dictionary.You can also combine *args and **kwargs in a function to accept both types of arguments:"
      ],
      "metadata": {
        "id": "_LDLUY5OjMbo"
      },
      "execution_count": 8,
      "outputs": []
    },
    {
      "cell_type": "code",
      "source": [
        "#Q3. What is an iterator in python? Name the method used to initialise the iterator object and the methodused for iteration. Use these methods to print the first five elements of the given list [2, 4, 6, 8, 10, 12, 14,16, 18, 20]."
      ],
      "metadata": {
        "id": "HsX7zJOAjgva"
      },
      "execution_count": 9,
      "outputs": []
    },
    {
      "cell_type": "code",
      "source": [
        "##In Python, an iterator is an object that allows you to iterate (loop) through a sequence of elements one at a time, using the next() function. Iterators are commonly used with loops like for to traverse through a collection (like a list or tuple).\n",
        "\n",
        "#Key methods of an iterator:\n",
        "__iter__(): #This method is used to initialize an iterator object. It is called when the iterator object is created. It returns the iterator object itself.\n",
        "__next__(): #This method is used to retrieve the next element from the iterator. When there are no more elements to iterate over, it raises a StopIteration exception.\n",
        "#Demonstrating an iterator on the given list:\n",
        "#To create an iterator from the list and print the first five elements, you can follow these steps:\n",
        "# List provided\n",
        "\n",
        "\n"
      ],
      "metadata": {
        "colab": {
          "base_uri": "https://localhost:8080/",
          "height": 122
        },
        "id": "BBRMMTBtjpt0",
        "outputId": "c2b042dc-964e-48cd-f41e-a6d1e04d1523"
      },
      "execution_count": 12,
      "outputs": [
        {
          "output_type": "error",
          "ename": "SyntaxError",
          "evalue": "invalid syntax (<ipython-input-12-8ae563cbb088>, line 4)",
          "traceback": [
            "\u001b[0;36m  File \u001b[0;32m\"<ipython-input-12-8ae563cbb088>\"\u001b[0;36m, line \u001b[0;32m4\u001b[0m\n\u001b[0;31m    __iter__(): #This method is used to initialize an iterator object. It is called when the iterator object is created. It returns the iterator object itself.\u001b[0m\n\u001b[0m              ^\u001b[0m\n\u001b[0;31mSyntaxError\u001b[0m\u001b[0;31m:\u001b[0m invalid syntax\n"
          ]
        }
      ]
    },
    {
      "cell_type": "code",
      "source": [
        "# List provided\n",
        "my_list = [2, 4, 6, 8, 10, 12, 14, 16, 18, 20]\n",
        "\n",
        "# Initialize the iterator object\n",
        "iterator = iter(my_list)\n",
        "\n",
        "# Use next() to iterate and print the first five elements\n",
        "for _ in range(5):\n",
        "    print(next(iterator))\n"
      ],
      "metadata": {
        "colab": {
          "base_uri": "https://localhost:8080/"
        },
        "id": "vs2AOjo8kCGF",
        "outputId": "6d7c4a90-c0d4-42d1-b203-42567ef4bb68"
      },
      "execution_count": 13,
      "outputs": [
        {
          "output_type": "stream",
          "name": "stdout",
          "text": [
            "2\n",
            "4\n",
            "6\n",
            "8\n",
            "10\n"
          ]
        }
      ]
    },
    {
      "cell_type": "code",
      "source": [
        "#Q4. What is a generator function in python? Why yield keyword is used? Give an example of a generatorfunction.\n",
        "def generate_squares(n):\n",
        "    for i in range(n):\n",
        "        yield i * i  # Yield each square number one by one\n",
        "\n",
        "# Example usage:\n",
        "squares = generate_squares(5)\n",
        "for square in squares:\n",
        "    print(square)\n"
      ],
      "metadata": {
        "colab": {
          "base_uri": "https://localhost:8080/"
        },
        "id": "OKLhcggFkRz9",
        "outputId": "0159051a-98b6-4608-9844-270ef18f28e5"
      },
      "execution_count": 14,
      "outputs": [
        {
          "output_type": "stream",
          "name": "stdout",
          "text": [
            "0\n",
            "1\n",
            "4\n",
            "9\n",
            "16\n"
          ]
        }
      ]
    },
    {
      "cell_type": "code",
      "source": [
        "#Q5. Create a generator function for prime numbers less than 1000. Use the next() method to print the first 20 prime numbers.\n",
        "def is_prime(num):\n",
        "    \"\"\"Helper function to check if a number is prime.\"\"\"\n",
        "    if num < 2:\n",
        "        return False\n",
        "    for i in range(2, int(num ** 0.5) + 1):\n",
        "        if num % i == 0:\n",
        "            return False\n",
        "    return True\n",
        "\n",
        "def prime_numbers():\n",
        "    \"\"\"Generator function to yield prime numbers less than 1000.\"\"\"\n",
        "    num = 2  # Start from the first prime number\n",
        "    while num < 1000:\n",
        "        if is_prime(num):\n",
        "            yield num\n",
        "        num += 1\n",
        "\n",
        "# Create the generator for primes less than 1000\n",
        "prime_gen = prime_numbers()\n",
        "\n",
        "# Use next() to print the first 20 prime numbers\n",
        "for _ in range(20):\n",
        "    print(next(prime_gen))\n"
      ],
      "metadata": {
        "colab": {
          "base_uri": "https://localhost:8080/"
        },
        "id": "6wW4T6uckt6h",
        "outputId": "ce4f7710-80c8-4f3a-9072-7c2d227412e8"
      },
      "execution_count": 15,
      "outputs": [
        {
          "output_type": "stream",
          "name": "stdout",
          "text": [
            "2\n",
            "3\n",
            "5\n",
            "7\n",
            "11\n",
            "13\n",
            "17\n",
            "19\n",
            "23\n",
            "29\n",
            "31\n",
            "37\n",
            "41\n",
            "43\n",
            "47\n",
            "53\n",
            "59\n",
            "61\n",
            "67\n",
            "71\n"
          ]
        }
      ]
    },
    {
      "cell_type": "code",
      "source": [
        "#Q6. Write a python program to print the first 10 Fibonacci numbers using a while loop.\n",
        "def fibonacci():\n",
        "    # Initialize the first two Fibonacci numbers\n",
        "    a, b = 0, 1\n",
        "    count = 0  # Counter to print first 10 Fibonacci numbers\n",
        "\n",
        "    # Use a while loop to print the first 10 Fibonacci numbers\n",
        "    while count < 10:\n",
        "        print(a, end=\" \")\n",
        "        a, b = b, a + b  # Update a and b to the next Fibonacci numbers\n",
        "        count += 1  # Increment count\n",
        "\n",
        "# Call the function to print the Fibonacci numbers\n",
        "fibonacci()\n"
      ],
      "metadata": {
        "colab": {
          "base_uri": "https://localhost:8080/"
        },
        "id": "8a70_Qrwk_T4",
        "outputId": "5fff6def-ff7d-48ed-8478-9c76865e8e27"
      },
      "execution_count": 16,
      "outputs": [
        {
          "output_type": "stream",
          "name": "stdout",
          "text": [
            "0 1 1 2 3 5 8 13 21 34 "
          ]
        }
      ]
    },
    {
      "cell_type": "code",
      "source": [
        "#Q7. Write a List Comprehension to iterate through the given string: ‘pwskills’. Expected output: ['p', 'w', 's', 'k', 'i', 'l', 'l', 's']\n",
        "# Given string\n",
        "s = 'pwskills'\n",
        "\n",
        "# Using list comprehension to iterate through the string and create a list of characters\n",
        "output = [char for char in s]\n",
        "\n",
        "# Print the output\n",
        "print(output)\n"
      ],
      "metadata": {
        "colab": {
          "base_uri": "https://localhost:8080/"
        },
        "id": "k8ADZ5JVlO-u",
        "outputId": "eaad21c6-ea43-45b2-a5af-33f6b1e7d954"
      },
      "execution_count": 17,
      "outputs": [
        {
          "output_type": "stream",
          "name": "stdout",
          "text": [
            "['p', 'w', 's', 'k', 'i', 'l', 'l', 's']\n"
          ]
        }
      ]
    },
    {
      "cell_type": "code",
      "source": [
        "#Q8. Write a python program to check whether a given number is Palindrome or not using a while loop.\n",
        "def is_palindrome(number):\n",
        "    # Store the original number to compare later\n",
        "    original_number = number\n",
        "    reversed_number = 0\n",
        "\n",
        "    # Reverse the number using a while loop\n",
        "    while number > 0:\n",
        "        digit = number % 10  # Extract the last digit\n",
        "        reversed_number = reversed_number * 10 + digit  # Build the reversed number\n",
        "        number = number // 10  # Remove the last digit from the original number\n",
        "\n",
        "    # Check if the reversed number is equal to the original number\n",
        "    if original_number == reversed_number:\n",
        "        return True\n",
        "    else:\n",
        "        return False\n",
        "\n",
        "# Input number\n",
        "num = int(input(\"Enter a number: \"))\n",
        "\n",
        "# Check if the number is palindrome\n",
        "if is_palindrome(num):\n",
        "    print(f\"{num} is a palindrome.\")\n",
        "else:\n",
        "    print(f\"{num} is not a palindrome.\")\n",
        "\n"
      ],
      "metadata": {
        "colab": {
          "base_uri": "https://localhost:8080/"
        },
        "id": "8yiMX_k2llQn",
        "outputId": "12577668-d62f-4c0f-e744-9976035a886a"
      },
      "execution_count": 18,
      "outputs": [
        {
          "output_type": "stream",
          "name": "stdout",
          "text": [
            "Enter a number: 121\n",
            "121 is a palindrome.\n"
          ]
        }
      ]
    },
    {
      "cell_type": "code",
      "source": [
        "#Q9. Write a code to print odd numbers from 1 to 100 using list comprehension.\n",
        "#Note: Use a list comprehension to create a list from 1 to 100 and use another List comprehension to filter out odd numbers.\n",
        "# Create a list of numbers from 1 to 100\n",
        "numbers = [num for num in range(1, 101)]\n",
        "\n",
        "# Use a list comprehension to filter out odd numbers\n",
        "odd_numbers = [num for num in numbers if num % 2 != 0]\n",
        "\n",
        "# Print the odd numbers\n",
        "print(odd_numbers)\n"
      ],
      "metadata": {
        "colab": {
          "base_uri": "https://localhost:8080/"
        },
        "id": "tBmXGD8ol8Vb",
        "outputId": "e56e0fcc-ba61-4e2c-9752-e2de8531a93a"
      },
      "execution_count": 20,
      "outputs": [
        {
          "output_type": "stream",
          "name": "stdout",
          "text": [
            "[1, 3, 5, 7, 9, 11, 13, 15, 17, 19, 21, 23, 25, 27, 29, 31, 33, 35, 37, 39, 41, 43, 45, 47, 49, 51, 53, 55, 57, 59, 61, 63, 65, 67, 69, 71, 73, 75, 77, 79, 81, 83, 85, 87, 89, 91, 93, 95, 97, 99]\n"
          ]
        }
      ]
    },
    {
      "cell_type": "code",
      "source": [],
      "metadata": {
        "id": "AbsKqdW7mMMy"
      },
      "execution_count": null,
      "outputs": []
    }
  ]
}