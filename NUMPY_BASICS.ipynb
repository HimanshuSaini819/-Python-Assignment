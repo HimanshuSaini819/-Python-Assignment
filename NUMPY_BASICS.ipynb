{
  "nbformat": 4,
  "nbformat_minor": 0,
  "metadata": {
    "colab": {
      "provenance": [],
      "authorship_tag": "ABX9TyNNAnHSxoZgUUyIg19uFTyE",
      "include_colab_link": true
    },
    "kernelspec": {
      "name": "python3",
      "display_name": "Python 3"
    },
    "language_info": {
      "name": "python"
    }
  },
  "cells": [
    {
      "cell_type": "markdown",
      "metadata": {
        "id": "view-in-github",
        "colab_type": "text"
      },
      "source": [
        "<a href=\"https://colab.research.google.com/github/HimanshuSaini819/-Python-Assignment/blob/main/NUMPY_BASICS.ipynb\" target=\"_parent\"><img src=\"https://colab.research.google.com/assets/colab-badge.svg\" alt=\"Open In Colab\"/></a>"
      ]
    },
    {
      "cell_type": "code",
      "execution_count": 86,
      "metadata": {
        "id": "PoXw38RRPiAc"
      },
      "outputs": [],
      "source": [
        "import numpy as np"
      ]
    },
    {
      "cell_type": "code",
      "source": [
        "np.__version__"
      ],
      "metadata": {
        "colab": {
          "base_uri": "https://localhost:8080/",
          "height": 35
        },
        "id": "Xd7gB9OrP19e",
        "outputId": "3c40c93e-e4ac-46cb-fcc5-587af0a776b0"
      },
      "execution_count": 87,
      "outputs": [
        {
          "output_type": "execute_result",
          "data": {
            "text/plain": [
              "'1.26.4'"
            ],
            "application/vnd.google.colaboratory.intrinsic+json": {
              "type": "string"
            }
          },
          "metadata": {},
          "execution_count": 87
        }
      ]
    },
    {
      "cell_type": "code",
      "source": [
        "print(np.__doc__)"
      ],
      "metadata": {
        "colab": {
          "base_uri": "https://localhost:8080/"
        },
        "id": "axurYO9UP7gq",
        "outputId": "a4cb7e8f-be14-4c0e-e92d-6579a5f5873f"
      },
      "execution_count": 88,
      "outputs": [
        {
          "output_type": "stream",
          "name": "stdout",
          "text": [
            "\n",
            "NumPy\n",
            "=====\n",
            "\n",
            "Provides\n",
            "  1. An array object of arbitrary homogeneous items\n",
            "  2. Fast mathematical operations over arrays\n",
            "  3. Linear Algebra, Fourier Transforms, Random Number Generation\n",
            "\n",
            "How to use the documentation\n",
            "----------------------------\n",
            "Documentation is available in two forms: docstrings provided\n",
            "with the code, and a loose standing reference guide, available from\n",
            "`the NumPy homepage <https://numpy.org>`_.\n",
            "\n",
            "We recommend exploring the docstrings using\n",
            "`IPython <https://ipython.org>`_, an advanced Python shell with\n",
            "TAB-completion and introspection capabilities.  See below for further\n",
            "instructions.\n",
            "\n",
            "The docstring examples assume that `numpy` has been imported as ``np``::\n",
            "\n",
            "  >>> import numpy as np\n",
            "\n",
            "Code snippets are indicated by three greater-than signs::\n",
            "\n",
            "  >>> x = 42\n",
            "  >>> x = x + 1\n",
            "\n",
            "Use the built-in ``help`` function to view a function's docstring::\n",
            "\n",
            "  >>> help(np.sort)\n",
            "  ... # doctest: +SKIP\n",
            "\n",
            "For some objects, ``np.info(obj)`` may provide additional help.  This is\n",
            "particularly true if you see the line \"Help on ufunc object:\" at the top\n",
            "of the help() page.  Ufuncs are implemented in C, not Python, for speed.\n",
            "The native Python help() does not know how to view their help, but our\n",
            "np.info() function does.\n",
            "\n",
            "To search for documents containing a keyword, do::\n",
            "\n",
            "  >>> np.lookfor('keyword')\n",
            "  ... # doctest: +SKIP\n",
            "\n",
            "General-purpose documents like a glossary and help on the basic concepts\n",
            "of numpy are available under the ``doc`` sub-module::\n",
            "\n",
            "  >>> from numpy import doc\n",
            "  >>> help(doc)\n",
            "  ... # doctest: +SKIP\n",
            "\n",
            "Available subpackages\n",
            "---------------------\n",
            "lib\n",
            "    Basic functions used by several sub-packages.\n",
            "random\n",
            "    Core Random Tools\n",
            "linalg\n",
            "    Core Linear Algebra Tools\n",
            "fft\n",
            "    Core FFT routines\n",
            "polynomial\n",
            "    Polynomial tools\n",
            "testing\n",
            "    NumPy testing tools\n",
            "distutils\n",
            "    Enhancements to distutils with support for\n",
            "    Fortran compilers support and more  (for Python <= 3.11).\n",
            "\n",
            "Utilities\n",
            "---------\n",
            "test\n",
            "    Run numpy unittests\n",
            "show_config\n",
            "    Show numpy build configuration\n",
            "matlib\n",
            "    Make everything matrices.\n",
            "__version__\n",
            "    NumPy version string\n",
            "\n",
            "Viewing documentation using IPython\n",
            "-----------------------------------\n",
            "\n",
            "Start IPython and import `numpy` usually under the alias ``np``: `import\n",
            "numpy as np`.  Then, directly past or use the ``%cpaste`` magic to paste\n",
            "examples into the shell.  To see which functions are available in `numpy`,\n",
            "type ``np.<TAB>`` (where ``<TAB>`` refers to the TAB key), or use\n",
            "``np.*cos*?<ENTER>`` (where ``<ENTER>`` refers to the ENTER key) to narrow\n",
            "down the list.  To view the docstring for a function, use\n",
            "``np.cos?<ENTER>`` (to view the docstring) and ``np.cos??<ENTER>`` (to view\n",
            "the source code).\n",
            "\n",
            "Copies vs. in-place operation\n",
            "-----------------------------\n",
            "Most of the functions in `numpy` return a copy of the array argument\n",
            "(e.g., `np.sort`).  In-place versions of these functions are often\n",
            "available as array methods, i.e. ``x = np.array([1,2,3]); x.sort()``.\n",
            "Exceptions to this rule are documented.\n",
            "\n",
            "\n"
          ]
        }
      ]
    },
    {
      "cell_type": "code",
      "source": [
        "l=[1,2,3,4,5]"
      ],
      "metadata": {
        "id": "55L4ocTeQLdy"
      },
      "execution_count": 89,
      "outputs": []
    },
    {
      "cell_type": "code",
      "source": [
        "arr = np.array(l)"
      ],
      "metadata": {
        "id": "nfAYdb6YQcmE"
      },
      "execution_count": 90,
      "outputs": []
    },
    {
      "cell_type": "code",
      "source": [
        "arr"
      ],
      "metadata": {
        "colab": {
          "base_uri": "https://localhost:8080/"
        },
        "id": "FRKaDq8xQhF5",
        "outputId": "e591b019-2cdf-4169-fa89-b5e5f8a999a1"
      },
      "execution_count": 91,
      "outputs": [
        {
          "output_type": "execute_result",
          "data": {
            "text/plain": [
              "array([1, 2, 3, 4, 5])"
            ]
          },
          "metadata": {},
          "execution_count": 91
        }
      ]
    },
    {
      "cell_type": "code",
      "source": [
        "type(np.array(l))"
      ],
      "metadata": {
        "colab": {
          "base_uri": "https://localhost:8080/"
        },
        "id": "_BNqSvefQoWg",
        "outputId": "b7e72e61-a882-4446-8cad-6a75e6e409a4"
      },
      "execution_count": 92,
      "outputs": [
        {
          "output_type": "execute_result",
          "data": {
            "text/plain": [
              "numpy.ndarray"
            ]
          },
          "metadata": {},
          "execution_count": 92
        }
      ]
    },
    {
      "cell_type": "code",
      "source": [
        "arr.ndim"
      ],
      "metadata": {
        "colab": {
          "base_uri": "https://localhost:8080/"
        },
        "id": "1MPo_5SoQu8a",
        "outputId": "ac49d642-8732-4917-e1eb-49f662c9204b"
      },
      "execution_count": 93,
      "outputs": [
        {
          "output_type": "execute_result",
          "data": {
            "text/plain": [
              "1"
            ]
          },
          "metadata": {},
          "execution_count": 93
        }
      ]
    },
    {
      "cell_type": "code",
      "source": [
        "l=[1,2,3,4,5,\"rishi\"]\n",
        "arr1=np.array(l)\n",
        "arr1"
      ],
      "metadata": {
        "colab": {
          "base_uri": "https://localhost:8080/"
        },
        "id": "AzIwiPb8Q2V7",
        "outputId": "2e14f31a-9d96-4fc7-9d1b-521f221c37ea"
      },
      "execution_count": 94,
      "outputs": [
        {
          "output_type": "execute_result",
          "data": {
            "text/plain": [
              "array(['1', '2', '3', '4', '5', 'rishi'], dtype='<U21')"
            ]
          },
          "metadata": {},
          "execution_count": 94
        }
      ]
    },
    {
      "cell_type": "code",
      "source": [
        "arr1.ndim"
      ],
      "metadata": {
        "colab": {
          "base_uri": "https://localhost:8080/"
        },
        "id": "o4-ZBtJlRR58",
        "outputId": "13e35346-00e5-429f-dfd4-1cf260ecc6ac"
      },
      "execution_count": 95,
      "outputs": [
        {
          "output_type": "execute_result",
          "data": {
            "text/plain": [
              "1"
            ]
          },
          "metadata": {},
          "execution_count": 95
        }
      ]
    },
    {
      "cell_type": "code",
      "source": [
        "arr"
      ],
      "metadata": {
        "colab": {
          "base_uri": "https://localhost:8080/"
        },
        "id": "atvLZSNIRZT-",
        "outputId": "0427ad12-41a1-422e-a992-697b1bfee3ce"
      },
      "execution_count": 96,
      "outputs": [
        {
          "output_type": "execute_result",
          "data": {
            "text/plain": [
              "array([1, 2, 3, 4, 5])"
            ]
          },
          "metadata": {},
          "execution_count": 96
        }
      ]
    },
    {
      "cell_type": "code",
      "source": [
        "arr1=np.array([[1,2,3],[4,5,6]])"
      ],
      "metadata": {
        "id": "T-pKhw3aRa-P"
      },
      "execution_count": 97,
      "outputs": []
    },
    {
      "cell_type": "code",
      "source": [
        "arr1"
      ],
      "metadata": {
        "colab": {
          "base_uri": "https://localhost:8080/"
        },
        "id": "oNKFm5oaQnPP",
        "outputId": "a59cbcc9-b51d-4c4c-cefb-ed56ecad9a3e"
      },
      "execution_count": 98,
      "outputs": [
        {
          "output_type": "execute_result",
          "data": {
            "text/plain": [
              "array([[1, 2, 3],\n",
              "       [4, 5, 6]])"
            ]
          },
          "metadata": {},
          "execution_count": 98
        }
      ]
    },
    {
      "cell_type": "code",
      "source": [
        "arr1.ndim"
      ],
      "metadata": {
        "colab": {
          "base_uri": "https://localhost:8080/"
        },
        "id": "IQIF5jHhQsQs",
        "outputId": "39809af8-a0f9-46dc-feaf-1e212e51f6c9"
      },
      "execution_count": 99,
      "outputs": [
        {
          "output_type": "execute_result",
          "data": {
            "text/plain": [
              "2"
            ]
          },
          "metadata": {},
          "execution_count": 99
        }
      ]
    },
    {
      "cell_type": "code",
      "source": [
        "l=[1,2,3,4]"
      ],
      "metadata": {
        "id": "bGFsMgGzQySR"
      },
      "execution_count": 100,
      "outputs": []
    },
    {
      "cell_type": "code",
      "source": [
        "np.array(l)"
      ],
      "metadata": {
        "colab": {
          "base_uri": "https://localhost:8080/"
        },
        "id": "vRqf0-v7Q3Z5",
        "outputId": "a021991e-8ddc-4014-ca73-4799a0992c80"
      },
      "execution_count": 101,
      "outputs": [
        {
          "output_type": "execute_result",
          "data": {
            "text/plain": [
              "array([1, 2, 3, 4])"
            ]
          },
          "metadata": {},
          "execution_count": 101
        }
      ]
    },
    {
      "cell_type": "code",
      "source": [
        "mat=np.matrix(l) #matris will be by default 2d"
      ],
      "metadata": {
        "id": "ctxUWtjZQ6vV"
      },
      "execution_count": 102,
      "outputs": []
    },
    {
      "cell_type": "code",
      "source": [
        "np.matrix([[[1,2],[5,6],[7,8]]])"
      ],
      "metadata": {
        "colab": {
          "base_uri": "https://localhost:8080/",
          "height": 258
        },
        "id": "RaG0VnezRJqq",
        "outputId": "239a4fde-d34b-4857-bc36-93e6bcbbd1c9"
      },
      "execution_count": 103,
      "outputs": [
        {
          "output_type": "error",
          "ename": "ValueError",
          "evalue": "matrix must be 2-dimensional",
          "traceback": [
            "\u001b[0;31m---------------------------------------------------------------------------\u001b[0m",
            "\u001b[0;31mValueError\u001b[0m                                Traceback (most recent call last)",
            "\u001b[0;32m<ipython-input-103-cb848e012ddd>\u001b[0m in \u001b[0;36m<cell line: 1>\u001b[0;34m()\u001b[0m\n\u001b[0;32m----> 1\u001b[0;31m \u001b[0mnp\u001b[0m\u001b[0;34m.\u001b[0m\u001b[0mmatrix\u001b[0m\u001b[0;34m(\u001b[0m\u001b[0;34m[\u001b[0m\u001b[0;34m[\u001b[0m\u001b[0;34m[\u001b[0m\u001b[0;36m1\u001b[0m\u001b[0;34m,\u001b[0m\u001b[0;36m2\u001b[0m\u001b[0;34m]\u001b[0m\u001b[0;34m,\u001b[0m\u001b[0;34m[\u001b[0m\u001b[0;36m5\u001b[0m\u001b[0;34m,\u001b[0m\u001b[0;36m6\u001b[0m\u001b[0;34m]\u001b[0m\u001b[0;34m,\u001b[0m\u001b[0;34m[\u001b[0m\u001b[0;36m7\u001b[0m\u001b[0;34m,\u001b[0m\u001b[0;36m8\u001b[0m\u001b[0;34m]\u001b[0m\u001b[0;34m]\u001b[0m\u001b[0;34m]\u001b[0m\u001b[0;34m)\u001b[0m\u001b[0;34m\u001b[0m\u001b[0;34m\u001b[0m\u001b[0m\n\u001b[0m",
            "\u001b[0;32m/usr/local/lib/python3.10/dist-packages/numpy/matrixlib/defmatrix.py\u001b[0m in \u001b[0;36m__new__\u001b[0;34m(subtype, data, dtype, copy)\u001b[0m\n\u001b[1;32m    148\u001b[0m         \u001b[0mshape\u001b[0m \u001b[0;34m=\u001b[0m \u001b[0marr\u001b[0m\u001b[0;34m.\u001b[0m\u001b[0mshape\u001b[0m\u001b[0;34m\u001b[0m\u001b[0;34m\u001b[0m\u001b[0m\n\u001b[1;32m    149\u001b[0m         \u001b[0;32mif\u001b[0m \u001b[0;34m(\u001b[0m\u001b[0mndim\u001b[0m \u001b[0;34m>\u001b[0m \u001b[0;36m2\u001b[0m\u001b[0;34m)\u001b[0m\u001b[0;34m:\u001b[0m\u001b[0;34m\u001b[0m\u001b[0;34m\u001b[0m\u001b[0m\n\u001b[0;32m--> 150\u001b[0;31m             \u001b[0;32mraise\u001b[0m \u001b[0mValueError\u001b[0m\u001b[0;34m(\u001b[0m\u001b[0;34m\"matrix must be 2-dimensional\"\u001b[0m\u001b[0;34m)\u001b[0m\u001b[0;34m\u001b[0m\u001b[0;34m\u001b[0m\u001b[0m\n\u001b[0m\u001b[1;32m    151\u001b[0m         \u001b[0;32melif\u001b[0m \u001b[0mndim\u001b[0m \u001b[0;34m==\u001b[0m \u001b[0;36m0\u001b[0m\u001b[0;34m:\u001b[0m\u001b[0;34m\u001b[0m\u001b[0;34m\u001b[0m\u001b[0m\n\u001b[1;32m    152\u001b[0m             \u001b[0mshape\u001b[0m \u001b[0;34m=\u001b[0m \u001b[0;34m(\u001b[0m\u001b[0;36m1\u001b[0m\u001b[0;34m,\u001b[0m \u001b[0;36m1\u001b[0m\u001b[0;34m)\u001b[0m\u001b[0;34m\u001b[0m\u001b[0;34m\u001b[0m\u001b[0m\n",
            "\u001b[0;31mValueError\u001b[0m: matrix must be 2-dimensional"
          ]
        }
      ]
    },
    {
      "cell_type": "code",
      "source": [
        "np.array([[[2,3],[5,6],[7,8]]])"
      ],
      "metadata": {
        "id": "0VnEMstXRjGG"
      },
      "execution_count": null,
      "outputs": []
    },
    {
      "cell_type": "code",
      "source": [
        "#more way to convert to array\n",
        "np.asarray([[[2,3],[5,6],[7,8]]])"
      ],
      "metadata": {
        "colab": {
          "base_uri": "https://localhost:8080/"
        },
        "id": "7_39J9DPR3dZ",
        "outputId": "a3c89d1c-7d7a-4145-b444-0b4ee00789aa"
      },
      "execution_count": 104,
      "outputs": [
        {
          "output_type": "execute_result",
          "data": {
            "text/plain": [
              "array([[[2, 3],\n",
              "        [5, 6],\n",
              "        [7, 8]]])"
            ]
          },
          "metadata": {},
          "execution_count": 104
        }
      ]
    },
    {
      "cell_type": "code",
      "source": [
        " np.asanyarray([[1,2],[5,6],[7,8]]) #convert the input to an ndarray,put pass ndarray through."
      ],
      "metadata": {
        "id": "HPThEfleS2MZ",
        "colab": {
          "base_uri": "https://localhost:8080/"
        },
        "outputId": "4c23c0e0-0cf5-4278-d3fd-57b7c7f13ea3"
      },
      "execution_count": 105,
      "outputs": [
        {
          "output_type": "execute_result",
          "data": {
            "text/plain": [
              "array([[1, 2],\n",
              "       [5, 6],\n",
              "       [7, 8]])"
            ]
          },
          "metadata": {},
          "execution_count": 105
        }
      ]
    },
    {
      "cell_type": "code",
      "source": [
        "mat"
      ],
      "metadata": {
        "colab": {
          "base_uri": "https://localhost:8080/"
        },
        "id": "JHQD56Uyyvg9",
        "outputId": "fec8efed-f465-42f1-d7dd-07da9b03ac3f"
      },
      "execution_count": 106,
      "outputs": [
        {
          "output_type": "execute_result",
          "data": {
            "text/plain": [
              "matrix([[1, 2, 3, 4]])"
            ]
          },
          "metadata": {},
          "execution_count": 106
        }
      ]
    },
    {
      "cell_type": "code",
      "source": [
        "np.asanyarray(mat)"
      ],
      "metadata": {
        "colab": {
          "base_uri": "https://localhost:8080/"
        },
        "id": "6GKC1SThyw8H",
        "outputId": "91787d02-9855-4bac-a38b-398cdcaaa754"
      },
      "execution_count": 107,
      "outputs": [
        {
          "output_type": "execute_result",
          "data": {
            "text/plain": [
              "matrix([[1, 2, 3, 4]])"
            ]
          },
          "metadata": {},
          "execution_count": 107
        }
      ]
    },
    {
      "cell_type": "code",
      "source": [
        "np.asarray([[1,2],[5,6],[7,8]])"
      ],
      "metadata": {
        "colab": {
          "base_uri": "https://localhost:8080/"
        },
        "id": "YITTM9Kyy2Z9",
        "outputId": "9509ac00-1fd2-4c8f-a988-b4ffd304c8c5"
      },
      "execution_count": 108,
      "outputs": [
        {
          "output_type": "execute_result",
          "data": {
            "text/plain": [
              "array([[1, 2],\n",
              "       [5, 6],\n",
              "       [7, 8]])"
            ]
          },
          "metadata": {},
          "execution_count": 108
        }
      ]
    },
    {
      "cell_type": "code",
      "source": [
        "np.array([[[1,2],[5,6],[7,8]]])"
      ],
      "metadata": {
        "colab": {
          "base_uri": "https://localhost:8080/"
        },
        "id": "iBeevV_2zl-O",
        "outputId": "0d0a035d-84ab-4f17-9d1e-782bf29277a2"
      },
      "execution_count": 109,
      "outputs": [
        {
          "output_type": "execute_result",
          "data": {
            "text/plain": [
              "array([[[1, 2],\n",
              "        [5, 6],\n",
              "        [7, 8]]])"
            ]
          },
          "metadata": {},
          "execution_count": 109
        }
      ]
    },
    {
      "cell_type": "code",
      "source": [
        "t=([1,2,3],[4,5,6])"
      ],
      "metadata": {
        "id": "7_P281L7z64S"
      },
      "execution_count": 110,
      "outputs": []
    },
    {
      "cell_type": "code",
      "source": [
        "type(t)"
      ],
      "metadata": {
        "colab": {
          "base_uri": "https://localhost:8080/"
        },
        "id": "73x_3KwL0CJs",
        "outputId": "d08be54d-bec2-4074-c670-50a8cf64baeb"
      },
      "execution_count": 111,
      "outputs": [
        {
          "output_type": "execute_result",
          "data": {
            "text/plain": [
              "tuple"
            ]
          },
          "metadata": {},
          "execution_count": 111
        }
      ]
    },
    {
      "cell_type": "code",
      "source": [
        "np.array(t)"
      ],
      "metadata": {
        "colab": {
          "base_uri": "https://localhost:8080/"
        },
        "id": "wG3GJlyM0DxA",
        "outputId": "073a529e-11bc-44a9-f7be-94d84b2a8b65"
      },
      "execution_count": 112,
      "outputs": [
        {
          "output_type": "execute_result",
          "data": {
            "text/plain": [
              "array([[1, 2, 3],\n",
              "       [4, 5, 6]])"
            ]
          },
          "metadata": {},
          "execution_count": 112
        }
      ]
    },
    {
      "cell_type": "code",
      "source": [
        "a=5\n",
        "np.array(a)"
      ],
      "metadata": {
        "colab": {
          "base_uri": "https://localhost:8080/"
        },
        "id": "04zUKDJe0Hmc",
        "outputId": "918d29f2-e558-4b1e-cfc6-218e49923160"
      },
      "execution_count": 113,
      "outputs": [
        {
          "output_type": "execute_result",
          "data": {
            "text/plain": [
              "array(5)"
            ]
          },
          "metadata": {},
          "execution_count": 113
        }
      ]
    },
    {
      "cell_type": "code",
      "source": [
        "\n",
        "l=[1,2,3,4,5]\n",
        "arr=np.array(l)\n",
        "arr"
      ],
      "metadata": {
        "colab": {
          "base_uri": "https://localhost:8080/"
        },
        "id": "yZIBBtqc0oHA",
        "outputId": "98790b58-7abd-4b05-9070-282bebffc76a"
      },
      "execution_count": 114,
      "outputs": [
        {
          "output_type": "execute_result",
          "data": {
            "text/plain": [
              "array([1, 2, 3, 4, 5])"
            ]
          },
          "metadata": {},
          "execution_count": 114
        }
      ]
    },
    {
      "cell_type": "code",
      "source": [
        "a=arr"
      ],
      "metadata": {
        "id": "cVzNMI8U00zV"
      },
      "execution_count": 115,
      "outputs": []
    },
    {
      "cell_type": "code",
      "source": [
        "a"
      ],
      "metadata": {
        "colab": {
          "base_uri": "https://localhost:8080/"
        },
        "id": "9jgauY7G06fa",
        "outputId": "a97c450a-2c97-4b51-a5d8-f773acaec586"
      },
      "execution_count": 116,
      "outputs": [
        {
          "output_type": "execute_result",
          "data": {
            "text/plain": [
              "array([1, 2, 3, 4, 5])"
            ]
          },
          "metadata": {},
          "execution_count": 116
        }
      ]
    },
    {
      "cell_type": "code",
      "source": [
        "arr[0]"
      ],
      "metadata": {
        "colab": {
          "base_uri": "https://localhost:8080/"
        },
        "id": "KgG__8iP08V9",
        "outputId": "891418cf-db83-4a65-98a3-fc7c433b0296"
      },
      "execution_count": 117,
      "outputs": [
        {
          "output_type": "execute_result",
          "data": {
            "text/plain": [
              "1"
            ]
          },
          "metadata": {},
          "execution_count": 117
        }
      ]
    },
    {
      "cell_type": "code",
      "source": [
        "arr[0]=1000"
      ],
      "metadata": {
        "id": "5-FUXzbd0_4j"
      },
      "execution_count": 118,
      "outputs": []
    },
    {
      "cell_type": "code",
      "source": [
        "arr"
      ],
      "metadata": {
        "colab": {
          "base_uri": "https://localhost:8080/"
        },
        "id": "ZSOSaDkX1IhS",
        "outputId": "9457029e-1476-4c35-b87a-552e0dc26a97"
      },
      "execution_count": 119,
      "outputs": [
        {
          "output_type": "execute_result",
          "data": {
            "text/plain": [
              "array([1000,    2,    3,    4,    5])"
            ]
          },
          "metadata": {},
          "execution_count": 119
        }
      ]
    },
    {
      "cell_type": "code",
      "source": [
        "a"
      ],
      "metadata": {
        "colab": {
          "base_uri": "https://localhost:8080/"
        },
        "id": "ZRB9h0fI1L9I",
        "outputId": "3d1515e5-10d2-4462-81d4-2ea5f496294e"
      },
      "execution_count": 120,
      "outputs": [
        {
          "output_type": "execute_result",
          "data": {
            "text/plain": [
              "array([1000,    2,    3,    4,    5])"
            ]
          },
          "metadata": {},
          "execution_count": 120
        }
      ]
    },
    {
      "cell_type": "code",
      "source": [
        "b=a.copy()\n",
        "b[0]=2000"
      ],
      "metadata": {
        "id": "_9eelBvb1VFu"
      },
      "execution_count": 121,
      "outputs": []
    },
    {
      "cell_type": "code",
      "source": [
        "b"
      ],
      "metadata": {
        "colab": {
          "base_uri": "https://localhost:8080/"
        },
        "id": "H8CFtZ_61gxG",
        "outputId": "568b5fef-65b2-4e99-90f9-d4d5c1872387"
      },
      "execution_count": 122,
      "outputs": [
        {
          "output_type": "execute_result",
          "data": {
            "text/plain": [
              "array([2000,    2,    3,    4,    5])"
            ]
          },
          "metadata": {},
          "execution_count": 122
        }
      ]
    },
    {
      "cell_type": "code",
      "source": [
        "a"
      ],
      "metadata": {
        "colab": {
          "base_uri": "https://localhost:8080/"
        },
        "id": "rqjbJG-c1kbZ",
        "outputId": "b43a2c94-5f59-418f-c6c4-cc9b1d530dd0"
      },
      "execution_count": 123,
      "outputs": [
        {
          "output_type": "execute_result",
          "data": {
            "text/plain": [
              "array([1000,    2,    3,    4,    5])"
            ]
          },
          "metadata": {},
          "execution_count": 123
        }
      ]
    },
    {
      "cell_type": "code",
      "source": [
        "#to create array>>.array,.asarray,.asanyarray,deep copy,shallow copy"
      ],
      "metadata": {
        "id": "_B0FGAjy1mSe"
      },
      "execution_count": 124,
      "outputs": []
    },
    {
      "cell_type": "code",
      "source": [
        "#there are multipal way to gentrating array"
      ],
      "metadata": {
        "id": "_I8gY5gn2M-S"
      },
      "execution_count": 125,
      "outputs": []
    },
    {
      "cell_type": "code",
      "source": [
        "np.fromfunction(lambda i,j:i==j,(3,3))"
      ],
      "metadata": {
        "colab": {
          "base_uri": "https://localhost:8080/"
        },
        "id": "Tob1z28Y2XD0",
        "outputId": "1df9e2b0-7ce4-4a87-aaeb-d771d82ecb6b"
      },
      "execution_count": 126,
      "outputs": [
        {
          "output_type": "execute_result",
          "data": {
            "text/plain": [
              "array([[ True, False, False],\n",
              "       [False,  True, False],\n",
              "       [False, False,  True]])"
            ]
          },
          "metadata": {},
          "execution_count": 126
        }
      ]
    },
    {
      "cell_type": "code",
      "source": [
        "arr"
      ],
      "metadata": {
        "colab": {
          "base_uri": "https://localhost:8080/"
        },
        "id": "A5EwyR542oiK",
        "outputId": "2ba69f51-1b8f-4603-ddaf-2a3bad79c4c8"
      },
      "execution_count": 127,
      "outputs": [
        {
          "output_type": "execute_result",
          "data": {
            "text/plain": [
              "array([1000,    2,    3,    4,    5])"
            ]
          },
          "metadata": {},
          "execution_count": 127
        }
      ]
    },
    {
      "cell_type": "code",
      "source": [
        "arr.shape"
      ],
      "metadata": {
        "colab": {
          "base_uri": "https://localhost:8080/"
        },
        "id": "JKL4N0JT2y2X",
        "outputId": "363d1977-8762-4bc1-8b6a-31741310a358"
      },
      "execution_count": 128,
      "outputs": [
        {
          "output_type": "execute_result",
          "data": {
            "text/plain": [
              "(5,)"
            ]
          },
          "metadata": {},
          "execution_count": 128
        }
      ]
    },
    {
      "cell_type": "code",
      "source": [
        "arr1"
      ],
      "metadata": {
        "colab": {
          "base_uri": "https://localhost:8080/"
        },
        "id": "Kp5PsdKk22Ob",
        "outputId": "0be33ebe-7f5a-4392-a665-3b7090b25c69"
      },
      "execution_count": 129,
      "outputs": [
        {
          "output_type": "execute_result",
          "data": {
            "text/plain": [
              "array([[1, 2, 3],\n",
              "       [4, 5, 6]])"
            ]
          },
          "metadata": {},
          "execution_count": 129
        }
      ]
    },
    {
      "cell_type": "code",
      "source": [
        "arr1.shape"
      ],
      "metadata": {
        "colab": {
          "base_uri": "https://localhost:8080/"
        },
        "id": "nqtIbBgF24xg",
        "outputId": "6427bb77-8808-4866-c152-a762232a78eb"
      },
      "execution_count": 130,
      "outputs": [
        {
          "output_type": "execute_result",
          "data": {
            "text/plain": [
              "(2, 3)"
            ]
          },
          "metadata": {},
          "execution_count": 130
        }
      ]
    },
    {
      "cell_type": "code",
      "source": [
        "arr.size"
      ],
      "metadata": {
        "colab": {
          "base_uri": "https://localhost:8080/"
        },
        "id": "SbznTdrX2-Be",
        "outputId": "04ce7445-1f2b-4ed5-92c3-2a1d1b897309"
      },
      "execution_count": 131,
      "outputs": [
        {
          "output_type": "execute_result",
          "data": {
            "text/plain": [
              "5"
            ]
          },
          "metadata": {},
          "execution_count": 131
        }
      ]
    },
    {
      "cell_type": "code",
      "source": [
        "arr1.size\n"
      ],
      "metadata": {
        "colab": {
          "base_uri": "https://localhost:8080/"
        },
        "id": "7Fxs2A553ATp",
        "outputId": "c7117924-bf92-47b7-daa2-076e3bc6d7f6"
      },
      "execution_count": 132,
      "outputs": [
        {
          "output_type": "execute_result",
          "data": {
            "text/plain": [
              "6"
            ]
          },
          "metadata": {},
          "execution_count": 132
        }
      ]
    },
    {
      "cell_type": "code",
      "source": [
        "np.fromfunction(lambda i,j:i==j,(3,3))"
      ],
      "metadata": {
        "colab": {
          "base_uri": "https://localhost:8080/"
        },
        "id": "HtxWBG7s3D1r",
        "outputId": "f7b4d920-66a5-4568-a35b-80d1d3ae2168"
      },
      "execution_count": 133,
      "outputs": [
        {
          "output_type": "execute_result",
          "data": {
            "text/plain": [
              "array([[ True, False, False],\n",
              "       [False,  True, False],\n",
              "       [False, False,  True]])"
            ]
          },
          "metadata": {},
          "execution_count": 133
        }
      ]
    },
    {
      "cell_type": "code",
      "source": [
        "np.fromfunction(lambda i,j:i*j,(3,3))"
      ],
      "metadata": {
        "colab": {
          "base_uri": "https://localhost:8080/"
        },
        "id": "xxF96WmE3Sut",
        "outputId": "1039ac4c-fbe2-4e37-f3ec-a989f7cce3e7"
      },
      "execution_count": 134,
      "outputs": [
        {
          "output_type": "execute_result",
          "data": {
            "text/plain": [
              "array([[0., 0., 0.],\n",
              "       [0., 1., 2.],\n",
              "       [0., 2., 4.]])"
            ]
          },
          "metadata": {},
          "execution_count": 134
        }
      ]
    },
    {
      "cell_type": "code",
      "source": [
        "for i in range(5):\n",
        "  print(i)"
      ],
      "metadata": {
        "colab": {
          "base_uri": "https://localhost:8080/"
        },
        "id": "oVj2d8vU3qU8",
        "outputId": "567d7c68-16c0-4862-b0ab-96af4370a115"
      },
      "execution_count": 135,
      "outputs": [
        {
          "output_type": "stream",
          "name": "stdout",
          "text": [
            "0\n",
            "1\n",
            "2\n",
            "3\n",
            "4\n"
          ]
        }
      ]
    },
    {
      "cell_type": "code",
      "source": [
        "[i for i in range(5)]"
      ],
      "metadata": {
        "colab": {
          "base_uri": "https://localhost:8080/"
        },
        "id": "r9enMoQB30F3",
        "outputId": "785a3455-b975-4f60-8fce-ec181d33eb3d"
      },
      "execution_count": 136,
      "outputs": [
        {
          "output_type": "execute_result",
          "data": {
            "text/plain": [
              "[0, 1, 2, 3, 4]"
            ]
          },
          "metadata": {},
          "execution_count": 136
        }
      ]
    },
    {
      "cell_type": "code",
      "source": [
        "list(i for i in range(5))"
      ],
      "metadata": {
        "colab": {
          "base_uri": "https://localhost:8080/"
        },
        "id": "wfB2bSD6398P",
        "outputId": "8dfbfb22-7176-45bf-c6db-92d29c9f7983"
      },
      "execution_count": 137,
      "outputs": [
        {
          "output_type": "execute_result",
          "data": {
            "text/plain": [
              "[0, 1, 2, 3, 4]"
            ]
          },
          "metadata": {},
          "execution_count": 137
        }
      ]
    },
    {
      "cell_type": "code",
      "source": [
        "iterable=(i*i for i in range(5))"
      ],
      "metadata": {
        "id": "eFefpNXK4LLM"
      },
      "execution_count": 138,
      "outputs": []
    },
    {
      "cell_type": "code",
      "source": [
        "np.fromiter(iterable,int)"
      ],
      "metadata": {
        "colab": {
          "base_uri": "https://localhost:8080/"
        },
        "id": "5GlTDlv04XMj",
        "outputId": "eebebb25-1269-4caa-e3db-8794589a0a75"
      },
      "execution_count": 139,
      "outputs": [
        {
          "output_type": "execute_result",
          "data": {
            "text/plain": [
              "array([ 0,  1,  4,  9, 16])"
            ]
          },
          "metadata": {},
          "execution_count": 139
        }
      ]
    },
    {
      "cell_type": "code",
      "source": [
        "np.fromstring('23 34 67',sep ='')"
      ],
      "metadata": {
        "colab": {
          "base_uri": "https://localhost:8080/"
        },
        "id": "1vbpGHCv4gLB",
        "outputId": "11a31df5-56c9-4d1f-84fe-2b491c204fb6"
      },
      "execution_count": 140,
      "outputs": [
        {
          "output_type": "stream",
          "name": "stderr",
          "text": [
            "<ipython-input-140-2a2f029649ae>:1: DeprecationWarning: The binary mode of fromstring is deprecated, as it behaves surprisingly on unicode inputs. Use frombuffer instead\n",
            "  np.fromstring('23 34 67',sep ='')\n"
          ]
        },
        {
          "output_type": "execute_result",
          "data": {
            "text/plain": [
              "array([9.92155029e-43])"
            ]
          },
          "metadata": {},
          "execution_count": 140
        }
      ]
    },
    {
      "cell_type": "code",
      "source": [
        "np.fromstring('suhani,ajay,anwesha',sep=',')"
      ],
      "metadata": {
        "colab": {
          "base_uri": "https://localhost:8080/"
        },
        "id": "fgtOkEGd5Sv4",
        "outputId": "8c3ac7ca-0981-4978-aa5b-751882e03df4"
      },
      "execution_count": 141,
      "outputs": [
        {
          "output_type": "stream",
          "name": "stderr",
          "text": [
            "<ipython-input-141-1559fd8f9872>:1: DeprecationWarning: string or file could not be read to its end due to unmatched data; this will raise a ValueError in the future.\n",
            "  np.fromstring('suhani,ajay,anwesha',sep=',')\n"
          ]
        },
        {
          "output_type": "execute_result",
          "data": {
            "text/plain": [
              "array([], dtype=float64)"
            ]
          },
          "metadata": {},
          "execution_count": 141
        }
      ]
    },
    {
      "cell_type": "code",
      "source": [
        "arr"
      ],
      "metadata": {
        "colab": {
          "base_uri": "https://localhost:8080/"
        },
        "id": "jAiP9NBe6MJp",
        "outputId": "181c616f-505c-48f3-a0ca-f2d6a9a48d8d"
      },
      "execution_count": 142,
      "outputs": [
        {
          "output_type": "execute_result",
          "data": {
            "text/plain": [
              "array([1000,    2,    3,    4,    5])"
            ]
          },
          "metadata": {},
          "execution_count": 142
        }
      ]
    },
    {
      "cell_type": "code",
      "source": [
        "arr.size"
      ],
      "metadata": {
        "colab": {
          "base_uri": "https://localhost:8080/"
        },
        "id": "zBYw1LND6SMt",
        "outputId": "e4b090f8-ada2-45c7-e537-b9682b058909"
      },
      "execution_count": 143,
      "outputs": [
        {
          "output_type": "execute_result",
          "data": {
            "text/plain": [
              "5"
            ]
          },
          "metadata": {},
          "execution_count": 143
        }
      ]
    },
    {
      "cell_type": "code",
      "source": [
        "arr.shape"
      ],
      "metadata": {
        "colab": {
          "base_uri": "https://localhost:8080/"
        },
        "id": "BA3hpqYd6XH0",
        "outputId": "565b54ed-d25b-4f5a-8df1-8aa8c692c973"
      },
      "execution_count": 144,
      "outputs": [
        {
          "output_type": "execute_result",
          "data": {
            "text/plain": [
              "(5,)"
            ]
          },
          "metadata": {},
          "execution_count": 144
        }
      ]
    },
    {
      "cell_type": "code",
      "source": [
        "arr.dtype"
      ],
      "metadata": {
        "colab": {
          "base_uri": "https://localhost:8080/"
        },
        "id": "fjnfuD3Z6a2n",
        "outputId": "43024930-df0b-47de-f73d-bdb938672711"
      },
      "execution_count": 145,
      "outputs": [
        {
          "output_type": "execute_result",
          "data": {
            "text/plain": [
              "dtype('int64')"
            ]
          },
          "metadata": {},
          "execution_count": 145
        }
      ]
    },
    {
      "cell_type": "code",
      "source": [
        "l=[1,2,3,\"ajay\"]\n",
        "arr=np.array(l)\n",
        "arr.dtype"
      ],
      "metadata": {
        "colab": {
          "base_uri": "https://localhost:8080/"
        },
        "id": "uWr4qAEZ6eaJ",
        "outputId": "e99157d1-b106-4d63-ed6f-732127de103b"
      },
      "execution_count": 146,
      "outputs": [
        {
          "output_type": "execute_result",
          "data": {
            "text/plain": [
              "dtype('<U21')"
            ]
          },
          "metadata": {},
          "execution_count": 146
        }
      ]
    },
    {
      "cell_type": "code",
      "source": [
        "arr"
      ],
      "metadata": {
        "colab": {
          "base_uri": "https://localhost:8080/"
        },
        "id": "n9zJUWTW6yY3",
        "outputId": "a09174b8-0822-43fd-cbc4-7f010838ef91"
      },
      "execution_count": 147,
      "outputs": [
        {
          "output_type": "execute_result",
          "data": {
            "text/plain": [
              "array(['1', '2', '3', 'ajay'], dtype='<U21')"
            ]
          },
          "metadata": {},
          "execution_count": 147
        }
      ]
    },
    {
      "cell_type": "code",
      "source": [
        "list(range(5))"
      ],
      "metadata": {
        "colab": {
          "base_uri": "https://localhost:8080/"
        },
        "id": "xKvhOUT9611h",
        "outputId": "d392e15b-aa7f-437b-abc8-ac5d6a8f5965"
      },
      "execution_count": 148,
      "outputs": [
        {
          "output_type": "execute_result",
          "data": {
            "text/plain": [
              "[0, 1, 2, 3, 4]"
            ]
          },
          "metadata": {},
          "execution_count": 148
        }
      ]
    },
    {
      "cell_type": "code",
      "source": [
        "range(5)"
      ],
      "metadata": {
        "colab": {
          "base_uri": "https://localhost:8080/"
        },
        "id": "92Bl902z66R7",
        "outputId": "64062f4c-ce43-4435-852e-9cbe3bb0fa8a"
      },
      "execution_count": 149,
      "outputs": [
        {
          "output_type": "execute_result",
          "data": {
            "text/plain": [
              "range(0, 5)"
            ]
          },
          "metadata": {},
          "execution_count": 149
        }
      ]
    },
    {
      "cell_type": "code",
      "source": [
        "list(range(1.0,2.10))"
      ],
      "metadata": {
        "colab": {
          "base_uri": "https://localhost:8080/",
          "height": 139
        },
        "id": "7y2YbOKr685F",
        "outputId": "56f4bac6-a142-456b-ca31-60078cb3ba58"
      },
      "execution_count": 154,
      "outputs": [
        {
          "output_type": "error",
          "ename": "TypeError",
          "evalue": "'float' object cannot be interpreted as an integer",
          "traceback": [
            "\u001b[0;31m---------------------------------------------------------------------------\u001b[0m",
            "\u001b[0;31mTypeError\u001b[0m                                 Traceback (most recent call last)",
            "\u001b[0;32m<ipython-input-154-d61a5fd623ab>\u001b[0m in \u001b[0;36m<cell line: 1>\u001b[0;34m()\u001b[0m\n\u001b[0;32m----> 1\u001b[0;31m \u001b[0mlist\u001b[0m\u001b[0;34m(\u001b[0m\u001b[0mrange\u001b[0m\u001b[0;34m(\u001b[0m\u001b[0;36m1.0\u001b[0m\u001b[0;34m,\u001b[0m\u001b[0;36m2.10\u001b[0m\u001b[0;34m)\u001b[0m\u001b[0;34m)\u001b[0m\u001b[0;34m\u001b[0m\u001b[0;34m\u001b[0m\u001b[0m\n\u001b[0m",
            "\u001b[0;31mTypeError\u001b[0m: 'float' object cannot be interpreted as an integer"
          ]
        }
      ]
    },
    {
      "cell_type": "code",
      "source": [
        "list(np.arange(0.1,10.2,0.1))"
      ],
      "metadata": {
        "colab": {
          "base_uri": "https://localhost:8080/"
        },
        "id": "L84koraKBLRL",
        "outputId": "409b29b4-4cf9-471e-a64d-7220c988b90e"
      },
      "execution_count": 156,
      "outputs": [
        {
          "output_type": "execute_result",
          "data": {
            "text/plain": [
              "[0.1,\n",
              " 0.2,\n",
              " 0.30000000000000004,\n",
              " 0.4,\n",
              " 0.5,\n",
              " 0.6,\n",
              " 0.7000000000000001,\n",
              " 0.8,\n",
              " 0.9,\n",
              " 1.0,\n",
              " 1.1,\n",
              " 1.2000000000000002,\n",
              " 1.3000000000000003,\n",
              " 1.4000000000000001,\n",
              " 1.5000000000000002,\n",
              " 1.6,\n",
              " 1.7000000000000002,\n",
              " 1.8000000000000003,\n",
              " 1.9000000000000001,\n",
              " 2.0,\n",
              " 2.1,\n",
              " 2.2,\n",
              " 2.3000000000000003,\n",
              " 2.4000000000000004,\n",
              " 2.5000000000000004,\n",
              " 2.6,\n",
              " 2.7,\n",
              " 2.8000000000000003,\n",
              " 2.9000000000000004,\n",
              " 3.0000000000000004,\n",
              " 3.1,\n",
              " 3.2,\n",
              " 3.3000000000000003,\n",
              " 3.4000000000000004,\n",
              " 3.5000000000000004,\n",
              " 3.6,\n",
              " 3.7,\n",
              " 3.8000000000000003,\n",
              " 3.9000000000000004,\n",
              " 4.0,\n",
              " 4.1,\n",
              " 4.2,\n",
              " 4.3,\n",
              " 4.3999999999999995,\n",
              " 4.5,\n",
              " 4.6,\n",
              " 4.7,\n",
              " 4.8,\n",
              " 4.9,\n",
              " 5.0,\n",
              " 5.1,\n",
              " 5.2,\n",
              " 5.3,\n",
              " 5.4,\n",
              " 5.5,\n",
              " 5.6,\n",
              " 5.7,\n",
              " 5.8,\n",
              " 5.9,\n",
              " 6.0,\n",
              " 6.1,\n",
              " 6.2,\n",
              " 6.3,\n",
              " 6.4,\n",
              " 6.5,\n",
              " 6.6,\n",
              " 6.7,\n",
              " 6.8,\n",
              " 6.9,\n",
              " 7.0,\n",
              " 7.1,\n",
              " 7.2,\n",
              " 7.3,\n",
              " 7.4,\n",
              " 7.5,\n",
              " 7.6,\n",
              " 7.7,\n",
              " 7.8,\n",
              " 7.9,\n",
              " 8.0,\n",
              " 8.1,\n",
              " 8.2,\n",
              " 8.3,\n",
              " 8.4,\n",
              " 8.5,\n",
              " 8.6,\n",
              " 8.7,\n",
              " 8.8,\n",
              " 8.9,\n",
              " 9.0,\n",
              " 9.1,\n",
              " 9.2,\n",
              " 9.3,\n",
              " 9.4,\n",
              " 9.5,\n",
              " 9.6,\n",
              " 9.700000000000001,\n",
              " 9.8,\n",
              " 9.9,\n",
              " 10.0,\n",
              " 10.1]"
            ]
          },
          "metadata": {},
          "execution_count": 156
        }
      ]
    },
    {
      "cell_type": "code",
      "source": [
        "np.linspace(1,5,10)"
      ],
      "metadata": {
        "colab": {
          "base_uri": "https://localhost:8080/"
        },
        "id": "5UTjREPIBxCc",
        "outputId": "41900f3d-f963-41b2-d9a6-1970ff822105"
      },
      "execution_count": 157,
      "outputs": [
        {
          "output_type": "execute_result",
          "data": {
            "text/plain": [
              "array([1.        , 1.44444444, 1.88888889, 2.33333333, 2.77777778,\n",
              "       3.22222222, 3.66666667, 4.11111111, 4.55555556, 5.        ])"
            ]
          },
          "metadata": {},
          "execution_count": 157
        }
      ]
    },
    {
      "cell_type": "code",
      "source": [
        "np.logspace(1,5,10,base=2)"
      ],
      "metadata": {
        "colab": {
          "base_uri": "https://localhost:8080/"
        },
        "id": "cyNOE-GDB3xj",
        "outputId": "3e9e2c3b-7dbd-4074-f483-9dbb252cb440"
      },
      "execution_count": 158,
      "outputs": [
        {
          "output_type": "execute_result",
          "data": {
            "text/plain": [
              "array([ 2.        ,  2.72158   ,  3.70349885,  5.0396842 ,  6.85795186,\n",
              "        9.33223232, 12.69920842, 17.28095582, 23.51575188, 32.        ])"
            ]
          },
          "metadata": {},
          "execution_count": 158
        }
      ]
    },
    {
      "cell_type": "code",
      "source": [
        "np.logspace(1,5,10,base=10)"
      ],
      "metadata": {
        "colab": {
          "base_uri": "https://localhost:8080/"
        },
        "id": "yFW3rsE1CGz4",
        "outputId": "ac91c7e6-1d4b-495c-c866-eaca8d478003"
      },
      "execution_count": 159,
      "outputs": [
        {
          "output_type": "execute_result",
          "data": {
            "text/plain": [
              "array([1.00000000e+01, 2.78255940e+01, 7.74263683e+01, 2.15443469e+02,\n",
              "       5.99484250e+02, 1.66810054e+03, 4.64158883e+03, 1.29154967e+04,\n",
              "       3.59381366e+04, 1.00000000e+05])"
            ]
          },
          "metadata": {},
          "execution_count": 159
        }
      ]
    },
    {
      "cell_type": "code",
      "source": [
        "arr1=np.zeros(5)\n",
        "arr1.shape"
      ],
      "metadata": {
        "colab": {
          "base_uri": "https://localhost:8080/"
        },
        "id": "gEe4-OaLCWtq",
        "outputId": "94ca2e63-fa08-4dec-8942-e6887a3af44f"
      },
      "execution_count": 161,
      "outputs": [
        {
          "output_type": "execute_result",
          "data": {
            "text/plain": [
              "(5,)"
            ]
          },
          "metadata": {},
          "execution_count": 161
        }
      ]
    },
    {
      "cell_type": "code",
      "source": [
        "arr1"
      ],
      "metadata": {
        "colab": {
          "base_uri": "https://localhost:8080/"
        },
        "id": "gbfEvkHDCiCU",
        "outputId": "643bbb3c-3bb8-4427-8fe2-5aebc3fff1d1"
      },
      "execution_count": 162,
      "outputs": [
        {
          "output_type": "execute_result",
          "data": {
            "text/plain": [
              "array([0., 0., 0., 0., 0.])"
            ]
          },
          "metadata": {},
          "execution_count": 162
        }
      ]
    },
    {
      "cell_type": "code",
      "source": [
        "arr1.ndim"
      ],
      "metadata": {
        "colab": {
          "base_uri": "https://localhost:8080/"
        },
        "id": "SleACoNSCpUU",
        "outputId": "8b55c548-81db-427f-ceb6-987232a159bd"
      },
      "execution_count": 163,
      "outputs": [
        {
          "output_type": "execute_result",
          "data": {
            "text/plain": [
              "1"
            ]
          },
          "metadata": {},
          "execution_count": 163
        }
      ]
    },
    {
      "cell_type": "code",
      "source": [
        "arr2=np.zeros((3,4))\n",
        "arr2.shape"
      ],
      "metadata": {
        "colab": {
          "base_uri": "https://localhost:8080/"
        },
        "id": "HFCZKwuuCsK0",
        "outputId": "bfe2ac37-43db-4fc3-c499-b48b42026c71"
      },
      "execution_count": 164,
      "outputs": [
        {
          "output_type": "execute_result",
          "data": {
            "text/plain": [
              "(3, 4)"
            ]
          },
          "metadata": {},
          "execution_count": 164
        }
      ]
    },
    {
      "cell_type": "code",
      "source": [
        "aar2"
      ],
      "metadata": {
        "colab": {
          "base_uri": "https://localhost:8080/",
          "height": 139
        },
        "id": "-oQThFygC_Ru",
        "outputId": "e055b5bb-1cdf-4003-f30a-de3d9c0d87bf"
      },
      "execution_count": 165,
      "outputs": [
        {
          "output_type": "error",
          "ename": "NameError",
          "evalue": "name 'aar2' is not defined",
          "traceback": [
            "\u001b[0;31m---------------------------------------------------------------------------\u001b[0m",
            "\u001b[0;31mNameError\u001b[0m                                 Traceback (most recent call last)",
            "\u001b[0;32m<ipython-input-165-f84810ee510c>\u001b[0m in \u001b[0;36m<cell line: 1>\u001b[0;34m()\u001b[0m\n\u001b[0;32m----> 1\u001b[0;31m \u001b[0maar2\u001b[0m\u001b[0;34m\u001b[0m\u001b[0;34m\u001b[0m\u001b[0m\n\u001b[0m",
            "\u001b[0;31mNameError\u001b[0m: name 'aar2' is not defined"
          ]
        }
      ]
    },
    {
      "cell_type": "code",
      "source": [
        "arr2.ndim"
      ],
      "metadata": {
        "colab": {
          "base_uri": "https://localhost:8080/"
        },
        "id": "INcytVJhDApF",
        "outputId": "21788d84-98b1-4628-f5d2-278ee0469866"
      },
      "execution_count": 166,
      "outputs": [
        {
          "output_type": "execute_result",
          "data": {
            "text/plain": [
              "2"
            ]
          },
          "metadata": {},
          "execution_count": 166
        }
      ]
    },
    {
      "cell_type": "code",
      "source": [
        "arr3=np.zeros((1,3,4))\n",
        "arr3.shape"
      ],
      "metadata": {
        "colab": {
          "base_uri": "https://localhost:8080/"
        },
        "id": "yN6g-jR6DDEd",
        "outputId": "c15fcc71-a60c-479d-9809-80778e9fa20e"
      },
      "execution_count": 168,
      "outputs": [
        {
          "output_type": "execute_result",
          "data": {
            "text/plain": [
              "(1, 3, 4)"
            ]
          },
          "metadata": {},
          "execution_count": 168
        }
      ]
    },
    {
      "cell_type": "code",
      "source": [
        "arr3.ndim"
      ],
      "metadata": {
        "colab": {
          "base_uri": "https://localhost:8080/"
        },
        "id": "cZX0BIFvDGzX",
        "outputId": "cfcac9af-2639-40e7-d612-a64773ca0e48"
      },
      "execution_count": 169,
      "outputs": [
        {
          "output_type": "execute_result",
          "data": {
            "text/plain": [
              "3"
            ]
          },
          "metadata": {},
          "execution_count": 169
        }
      ]
    },
    {
      "cell_type": "code",
      "source": [
        "arr4=np.zeros((1,1,3,4))\n",
        "arr4.shape"
      ],
      "metadata": {
        "colab": {
          "base_uri": "https://localhost:8080/"
        },
        "id": "KZTt2rHMDdDq",
        "outputId": "347e9349-30e0-44f8-d8dc-3845fd3cea09"
      },
      "execution_count": 172,
      "outputs": [
        {
          "output_type": "execute_result",
          "data": {
            "text/plain": [
              "(1, 1, 3, 4)"
            ]
          },
          "metadata": {},
          "execution_count": 172
        }
      ]
    },
    {
      "cell_type": "code",
      "source": [
        "arr4.ndim"
      ],
      "metadata": {
        "colab": {
          "base_uri": "https://localhost:8080/"
        },
        "id": "zkLovVPPDwik",
        "outputId": "23afeaf2-9ae0-4b76-dc4c-0476c036f814"
      },
      "execution_count": 173,
      "outputs": [
        {
          "output_type": "execute_result",
          "data": {
            "text/plain": [
              "4"
            ]
          },
          "metadata": {},
          "execution_count": 173
        }
      ]
    },
    {
      "cell_type": "code",
      "source": [
        "arr4"
      ],
      "metadata": {
        "colab": {
          "base_uri": "https://localhost:8080/"
        },
        "id": "WbYpEXHvECul",
        "outputId": "096b0a93-e0c1-4321-fc8e-40afdaa420a5"
      },
      "execution_count": 174,
      "outputs": [
        {
          "output_type": "execute_result",
          "data": {
            "text/plain": [
              "array([[[[0., 0., 0., 0.],\n",
              "         [0., 0., 0., 0.],\n",
              "         [0., 0., 0., 0.]]]])"
            ]
          },
          "metadata": {},
          "execution_count": 174
        }
      ]
    },
    {
      "cell_type": "code",
      "source": [
        "np.ones(5)"
      ],
      "metadata": {
        "colab": {
          "base_uri": "https://localhost:8080/"
        },
        "id": "ZQasm1wLEEAA",
        "outputId": "7c84e731-096d-4645-ad1f-508e196f01f9"
      },
      "execution_count": 176,
      "outputs": [
        {
          "output_type": "execute_result",
          "data": {
            "text/plain": [
              "array([1., 1., 1., 1., 1.])"
            ]
          },
          "metadata": {},
          "execution_count": 176
        }
      ]
    },
    {
      "cell_type": "code",
      "source": [
        "arr=np.ones((3,4))"
      ],
      "metadata": {
        "id": "MUpgREQcEGYg"
      },
      "execution_count": 178,
      "outputs": []
    },
    {
      "cell_type": "code",
      "source": [
        "arr"
      ],
      "metadata": {
        "colab": {
          "base_uri": "https://localhost:8080/"
        },
        "id": "9h7cIES1EQp-",
        "outputId": "4a28c6a2-b6f3-4053-a3c9-ddd3b66c574a"
      },
      "execution_count": 179,
      "outputs": [
        {
          "output_type": "execute_result",
          "data": {
            "text/plain": [
              "array([[1., 1., 1., 1.],\n",
              "       [1., 1., 1., 1.],\n",
              "       [1., 1., 1., 1.]])"
            ]
          },
          "metadata": {},
          "execution_count": 179
        }
      ]
    },
    {
      "cell_type": "code",
      "source": [
        "arr+5"
      ],
      "metadata": {
        "colab": {
          "base_uri": "https://localhost:8080/"
        },
        "id": "MR6iRU2REZLf",
        "outputId": "107ec7b5-c6ff-4d3b-935d-b97dabcce882"
      },
      "execution_count": 180,
      "outputs": [
        {
          "output_type": "execute_result",
          "data": {
            "text/plain": [
              "array([[6., 6., 6., 6.],\n",
              "       [6., 6., 6., 6.],\n",
              "       [6., 6., 6., 6.]])"
            ]
          },
          "metadata": {},
          "execution_count": 180
        }
      ]
    },
    {
      "cell_type": "code",
      "source": [
        "arr*3"
      ],
      "metadata": {
        "colab": {
          "base_uri": "https://localhost:8080/"
        },
        "id": "h1cDO5OoEbNX",
        "outputId": "c8c454e6-b183-480b-be65-1870c51d841e"
      },
      "execution_count": 181,
      "outputs": [
        {
          "output_type": "execute_result",
          "data": {
            "text/plain": [
              "array([[3., 3., 3., 3.],\n",
              "       [3., 3., 3., 3.],\n",
              "       [3., 3., 3., 3.]])"
            ]
          },
          "metadata": {},
          "execution_count": 181
        }
      ]
    },
    {
      "cell_type": "code",
      "source": [
        "np.array([[[[[[[[[[[[[[[[[[[[[1,1,1,1,]]]]]]]]]]]]]]]]]]]]])"
      ],
      "metadata": {
        "colab": {
          "base_uri": "https://localhost:8080/"
        },
        "id": "8RJ1YFqMEdNn",
        "outputId": "015578ac-2444-45e9-a668-139ccd87347b"
      },
      "execution_count": 182,
      "outputs": [
        {
          "output_type": "execute_result",
          "data": {
            "text/plain": [
              "array([[[[[[[[[[[[[[[[[[[[[1, 1, 1, 1]]]]]]]]]]]]]]]]]]]]])"
            ]
          },
          "metadata": {},
          "execution_count": 182
        }
      ]
    },
    {
      "cell_type": "code",
      "source": [
        "np.tows((2,3))"
      ],
      "metadata": {
        "colab": {
          "base_uri": "https://localhost:8080/",
          "height": 258
        },
        "id": "HHsDJdWzEnon",
        "outputId": "7a2fa2a9-edb8-41c0-eac3-cf0b558cdae3"
      },
      "execution_count": 183,
      "outputs": [
        {
          "output_type": "error",
          "ename": "AttributeError",
          "evalue": "module 'numpy' has no attribute 'tows'",
          "traceback": [
            "\u001b[0;31m---------------------------------------------------------------------------\u001b[0m",
            "\u001b[0;31mAttributeError\u001b[0m                            Traceback (most recent call last)",
            "\u001b[0;32m<ipython-input-183-ba60bd9acb34>\u001b[0m in \u001b[0;36m<cell line: 1>\u001b[0;34m()\u001b[0m\n\u001b[0;32m----> 1\u001b[0;31m \u001b[0mnp\u001b[0m\u001b[0;34m.\u001b[0m\u001b[0mtows\u001b[0m\u001b[0;34m(\u001b[0m\u001b[0;34m(\u001b[0m\u001b[0;36m2\u001b[0m\u001b[0;34m,\u001b[0m\u001b[0;36m3\u001b[0m\u001b[0;34m)\u001b[0m\u001b[0;34m)\u001b[0m\u001b[0;34m\u001b[0m\u001b[0;34m\u001b[0m\u001b[0m\n\u001b[0m",
            "\u001b[0;32m/usr/local/lib/python3.10/dist-packages/numpy/__init__.py\u001b[0m in \u001b[0;36m__getattr__\u001b[0;34m(attr)\u001b[0m\n\u001b[1;32m    331\u001b[0m             \u001b[0;32mraise\u001b[0m \u001b[0mRuntimeError\u001b[0m\u001b[0;34m(\u001b[0m\u001b[0;34m\"Tester was removed in NumPy 1.25.\"\u001b[0m\u001b[0;34m)\u001b[0m\u001b[0;34m\u001b[0m\u001b[0;34m\u001b[0m\u001b[0m\n\u001b[1;32m    332\u001b[0m \u001b[0;34m\u001b[0m\u001b[0m\n\u001b[0;32m--> 333\u001b[0;31m         raise AttributeError(\"module {!r} has no attribute \"\n\u001b[0m\u001b[1;32m    334\u001b[0m                              \"{!r}\".format(__name__, attr))\n\u001b[1;32m    335\u001b[0m \u001b[0;34m\u001b[0m\u001b[0m\n",
            "\u001b[0;31mAttributeError\u001b[0m: module 'numpy' has no attribute 'tows'"
          ]
        }
      ]
    },
    {
      "cell_type": "code",
      "source": [
        "l=[1,2,3,4,5,\"prince\"]\n",
        "arr=np.array(l)\n",
        "arr.dtype"
      ],
      "metadata": {
        "colab": {
          "base_uri": "https://localhost:8080/"
        },
        "id": "y5zVZg3iErro",
        "outputId": "9caf6e1b-0598-4a13-8945-b5c202cc982e"
      },
      "execution_count": 184,
      "outputs": [
        {
          "output_type": "execute_result",
          "data": {
            "text/plain": [
              "dtype('<U21')"
            ]
          },
          "metadata": {},
          "execution_count": 184
        }
      ]
    },
    {
      "cell_type": "code",
      "source": [
        "arr"
      ],
      "metadata": {
        "colab": {
          "base_uri": "https://localhost:8080/"
        },
        "id": "6WLcXezwE9Qq",
        "outputId": "92846f70-f9c8-4244-fdef-055069201a80"
      },
      "execution_count": 185,
      "outputs": [
        {
          "output_type": "execute_result",
          "data": {
            "text/plain": [
              "array(['1', '2', '3', '4', '5', 'prince'], dtype='<U21')"
            ]
          },
          "metadata": {},
          "execution_count": 185
        }
      ]
    },
    {
      "cell_type": "code",
      "source": [],
      "metadata": {
        "id": "zgElWN_RFAXc"
      },
      "execution_count": null,
      "outputs": []
    }
  ]
}