{
  "nbformat": 4,
  "nbformat_minor": 0,
  "metadata": {
    "colab": {
      "provenance": [],
      "authorship_tag": "ABX9TyPz8oGMobw07bU+BM3NwFko",
      "include_colab_link": true
    },
    "kernelspec": {
      "name": "python3",
      "display_name": "Python 3"
    },
    "language_info": {
      "name": "python"
    }
  },
  "cells": [
    {
      "cell_type": "markdown",
      "metadata": {
        "id": "view-in-github",
        "colab_type": "text"
      },
      "source": [
        "<a href=\"https://colab.research.google.com/github/HimanshuSaini819/-Python-Assignment/blob/main/python_Assignment_1.ipynb\" target=\"_parent\"><img src=\"https://colab.research.google.com/assets/colab-badge.svg\" alt=\"Open In Colab\"/></a>"
      ]
    },
    {
      "cell_type": "code",
      "source": [
        "#Q1: Explain with an example when to use a for loop and a while loop.\n",
        "\n",
        "#For loop: Used when the number of iterations is known in advance.\n",
        "\n",
        "for i in range(5):\n",
        "    print(\"Iteration:\", i)\n"
      ],
      "metadata": {
        "colab": {
          "base_uri": "https://localhost:8080/"
        },
        "id": "HnHX7QGs8erZ",
        "outputId": "2052114c-2b08-47f8-d440-9c4beb4627b5"
      },
      "execution_count": 5,
      "outputs": [
        {
          "output_type": "stream",
          "name": "stdout",
          "text": [
            "Iteration: 0\n",
            "Iteration: 1\n",
            "Iteration: 2\n",
            "Iteration: 3\n",
            "Iteration: 4\n"
          ]
        }
      ]
    },
    {
      "cell_type": "code",
      "source": [
        "#While loop: Used when the number of iterations is not known, and the loop depends on a condition.\n",
        "\n",
        "count = 0\n",
        "while count < 5:\n",
        "    print(\"Count:\", count)\n",
        "    count += 1\n"
      ],
      "metadata": {
        "colab": {
          "base_uri": "https://localhost:8080/"
        },
        "id": "uRDSZNEE8qWw",
        "outputId": "efd61da3-35ef-4d97-e2c1-c30b1e675303"
      },
      "execution_count": 6,
      "outputs": [
        {
          "output_type": "stream",
          "name": "stdout",
          "text": [
            "Count: 0\n",
            "Count: 1\n",
            "Count: 2\n",
            "Count: 3\n",
            "Count: 4\n"
          ]
        }
      ]
    },
    {
      "cell_type": "code",
      "source": [
        "#Q2: Python program to print the sum and product of the first 10 natural numbers using for and while loops.\n",
        "\n",
        "#Using for loop:\n",
        "\n",
        "# Sum and product using for loop\n",
        "sum_for = 0\n",
        "product_for = 1\n",
        "for i in range(1, 11):\n",
        "    sum_for += i\n",
        "    product_for *= i\n",
        "print(\"Sum (for loop):\", sum_for)\n",
        "print(\"Product (for loop):\", product_for)\n"
      ],
      "metadata": {
        "colab": {
          "base_uri": "https://localhost:8080/"
        },
        "id": "AQxPNff88yHx",
        "outputId": "ac7397cb-48b1-4fc3-8860-448192d6e55e"
      },
      "execution_count": 7,
      "outputs": [
        {
          "output_type": "stream",
          "name": "stdout",
          "text": [
            "Sum (for loop): 55\n",
            "Product (for loop): 3628800\n"
          ]
        }
      ]
    },
    {
      "cell_type": "code",
      "source": [
        "#Using while loop:\n",
        "\n",
        "# Sum and product using while loop\n",
        "sum_while = 0\n",
        "product_while = 1\n",
        "i = 1\n",
        "while i <= 10:\n",
        "    sum_while += i\n",
        "    product_while *= i\n",
        "    i += 1\n",
        "print(\"Sum (while loop):\", sum_while)\n",
        "print(\"Product (while loop):\", product_while)\n",
        "\n"
      ],
      "metadata": {
        "colab": {
          "base_uri": "https://localhost:8080/"
        },
        "id": "vzWlKCqg9ENr",
        "outputId": "108d58e1-80f4-4d6c-d21e-1b611f543723"
      },
      "execution_count": 8,
      "outputs": [
        {
          "output_type": "stream",
          "name": "stdout",
          "text": [
            "Sum (while loop): 55\n",
            "Product (while loop): 3628800\n"
          ]
        }
      ]
    },
    {
      "cell_type": "code",
      "source": [
        "#Q3: Python program to compute the electricity bill.\n",
        "\n",
        "# Electricity bill calculator\n",
        "units = int(input(\"Enter the number of units consumed: \"))\n",
        "bill = 0\n",
        "\n",
        "if units <= 100:\n",
        "    bill = units * 4.5\n",
        "elif units <= 200:\n",
        "    bill = (100 * 4.5) + (units - 100) * 6\n",
        "elif units <= 300:\n",
        "    bill = (100 * 4.5) + (100 * 6) + (units - 200) * 10\n",
        "else:\n",
        "    bill = (100 * 4.5) + (100 * 6) + (100 * 10) + (units - 300) * 20\n",
        "\n",
        "print(\"Total electricity bill: Rs.\", bill)\n",
        "\n"
      ],
      "metadata": {
        "colab": {
          "base_uri": "https://localhost:8080/"
        },
        "id": "0Ya664RH9Nx3",
        "outputId": "ff9ec413-b03f-4978-a2c2-fdbc6bf61339"
      },
      "execution_count": 9,
      "outputs": [
        {
          "output_type": "stream",
          "name": "stdout",
          "text": [
            "Enter the number of units consumed: 310\n",
            "Total electricity bill: Rs. 2250.0\n"
          ]
        }
      ]
    },
    {
      "cell_type": "code",
      "source": [
        "#Q4: Create a list of numbers from 1 to 100 and find cubes divisible by 4 or 5.\n",
        "\n",
        "#Using for loop:\n",
        "\n",
        "# List of cubes divisible by 4 or 5 using for loop\n",
        "result_for = []\n",
        "for i in range(1, 101):\n",
        "    cube = i ** 3\n",
        "    if cube % 4 == 0 or cube % 5 == 0:\n",
        "        result_for.append(i)\n",
        "print(\"Numbers with cubes divisible by 4 or 5 (for loop):\", result_for)\n",
        "\n",
        "\n",
        "\n"
      ],
      "metadata": {
        "colab": {
          "base_uri": "https://localhost:8080/"
        },
        "id": "KdFP24Bg9tED",
        "outputId": "1341e468-2783-4da0-fba8-b47baef4fc96"
      },
      "execution_count": 10,
      "outputs": [
        {
          "output_type": "stream",
          "name": "stdout",
          "text": [
            "Numbers with cubes divisible by 4 or 5 (for loop): [2, 4, 5, 6, 8, 10, 12, 14, 15, 16, 18, 20, 22, 24, 25, 26, 28, 30, 32, 34, 35, 36, 38, 40, 42, 44, 45, 46, 48, 50, 52, 54, 55, 56, 58, 60, 62, 64, 65, 66, 68, 70, 72, 74, 75, 76, 78, 80, 82, 84, 85, 86, 88, 90, 92, 94, 95, 96, 98, 100]\n"
          ]
        }
      ]
    },
    {
      "cell_type": "code",
      "source": [
        "#Using while loop:\n",
        "\n",
        "# List of cubes divisible by 4 or 5 using while loop\n",
        "result_while = []\n",
        "i = 1\n",
        "while i <= 100:\n",
        "    cube = i ** 3\n",
        "    if cube % 4 == 0 or cube % 5 == 0:\n",
        "        result_while.append(i)\n",
        "    i += 1\n",
        "print(\"Numbers with cubes divisible by 4 or 5 (while loop):\", result_while)"
      ],
      "metadata": {
        "colab": {
          "base_uri": "https://localhost:8080/"
        },
        "id": "Ih_NLg_o-Hkg",
        "outputId": "7cae5fcc-b291-40c3-800a-0351b3eae0d0"
      },
      "execution_count": 11,
      "outputs": [
        {
          "output_type": "stream",
          "name": "stdout",
          "text": [
            "Numbers with cubes divisible by 4 or 5 (while loop): [2, 4, 5, 6, 8, 10, 12, 14, 15, 16, 18, 20, 22, 24, 25, 26, 28, 30, 32, 34, 35, 36, 38, 40, 42, 44, 45, 46, 48, 50, 52, 54, 55, 56, 58, 60, 62, 64, 65, 66, 68, 70, 72, 74, 75, 76, 78, 80, 82, 84, 85, 86, 88, 90, 92, 94, 95, 96, 98, 100]\n"
          ]
        }
      ]
    },
    {
      "cell_type": "code",
      "source": [
        "#Q5: Program to filter and count vowels in a string.\n",
        "\n",
        "# Count vowels in the string\n",
        "string = \"I want to become a data scientist\"\n",
        "vowels = \"aeiouAEIOU\"\n",
        "vowel_count = 0\n",
        "vowel_list = []\n",
        "\n",
        "for char in string:\n",
        "    if char in vowels:\n",
        "        vowel_list.append(char)\n",
        "        vowel_count += 1\n",
        "\n",
        "print(\"Vowels found:\", vowel_list)\n",
        "print(\"Total number of vowels:\", vowel_count)"
      ],
      "metadata": {
        "colab": {
          "base_uri": "https://localhost:8080/"
        },
        "id": "7iJUDpgb-KEB",
        "outputId": "97ebbf1d-fbf3-4a24-93ae-2fb6a4163648"
      },
      "execution_count": 12,
      "outputs": [
        {
          "output_type": "stream",
          "name": "stdout",
          "text": [
            "Vowels found: ['I', 'a', 'o', 'e', 'o', 'e', 'a', 'a', 'a', 'i', 'e', 'i']\n",
            "Total number of vowels: 12\n"
          ]
        }
      ]
    },
    {
      "cell_type": "code",
      "source": [],
      "metadata": {
        "id": "W9yAddlK-T6c"
      },
      "execution_count": null,
      "outputs": []
    }
  ]
}